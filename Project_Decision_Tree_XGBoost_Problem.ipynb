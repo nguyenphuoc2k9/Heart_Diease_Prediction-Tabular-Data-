{
  "cells": [
    {
      "cell_type": "code",
      "execution_count": null,
      "metadata": {
        "id": "WUElY2RnXjaG"
      },
      "outputs": [],
      "source": []
    },
    {
      "cell_type": "code",
      "execution_count": 8,
      "metadata": {
        "colab": {
          "base_uri": "https://localhost:8080/",
          "height": 506
        },
        "id": "g5ITObW5PUvd",
        "outputId": "bf9cf17a-6476-4d93-d0bf-69f5900a839b"
      },
      "outputs": [
        {
          "data": {
            "image/png": "[encoded data removed]",
            "text/plain": [
              "<Figure size 558.875x500 with 1 Axes>"
            ]
          },
          "metadata": {},
          "output_type": "display_data"
        }
      ],
      "source": [
        "import numpy as np\n",
        "import pandas as pd\n",
        "from matplotlib import pyplot as plt\n",
        "import matplotlib.pyplot as plt\n",
        "import seaborn as sns\n",
        "import math\n",
        "\n",
        "# Bài tập 1\n",
        "df = pd.read_csv('./data/cleveland.csv', header = None)\n",
        "df.columns = ['age', 'sex', 'cp', 'trestbps', 'chol',\n",
        "              'fbs', 'restecg', 'thalach', 'exang',\n",
        "              'oldpeak', 'slope', 'ca', 'thal', 'target']\n",
        "df['target'] = df.target.map({0: 0, 1: 1, 2: 1, 3: 1, 4: 1})\n",
        "df['thal'] = df.thal.fillna(df.thal.mean())\n",
        "df['ca'] = df.ca.fillna(df.ca.mean())\n",
        "\n",
        "# distribution of target vs age\n",
        "\n",
        "#.         Your code here ******************\n",
        "ax = sns.catplot(kind=\"count\",x=\"age\", hue=\"target\", data=df,order=df['age'].sort_values().unique())\n",
        "ax.ax.set_xticks(np.arange(0,80,5))\n",
        "plt.show()\n",
        "\n"
      ]
    },
    {
      "cell_type": "code",
      "execution_count": 10,
      "metadata": {
        "colab": {
          "base_uri": "https://localhost:8080/",
          "height": 449
        },
        "id": "nJUz03X9Yxzz",
        "outputId": "1e021229-0b98-4e39-d46c-f10ec22cc0d1"
      },
      "outputs": [
        {
          "data": {
            "image/png": "[encoded data removed]",
            "text/plain": [
              "<Figure size 640x480 with 1 Axes>"
            ]
          },
          "metadata": {},
          "output_type": "display_data"
        }
      ],
      "source": [
        "# bai tap 2\n",
        "# barplot of age vs sex with hue = target\n",
        "\n",
        "#.         Your code here ******************\n",
        "sns.barplot(y=\"age\",x=\"sex\",hue=\"target\",data=df)\n",
        "plt.show()"
      ]
    },
    {
      "cell_type": "code",
      "execution_count": 15,
      "metadata": {
        "id": "4XxY6kDIY3G7"
      },
      "outputs": [],
      "source": [
        "X = df.iloc[:, :-1].values\n",
        "y = df.iloc[:, -1].values\n",
        "\n",
        "from sklearn.model_selection import train_test_split\n",
        "X_train, X_test, y_train, y_test = train_test_split(X, y, test_size = 0.2, random_state = 42)\n",
        "\n",
        "from sklearn.preprocessing import StandardScaler as ss\n",
        "sc = ss()\n",
        "X_train = sc.fit_transform(X_train)\n",
        "X_test = sc.transform(X_test)"
      ]
    },
    {
      "cell_type": "code",
      "execution_count": 17,
      "metadata": {
        "colab": {
          "base_uri": "https://localhost:8080/"
        },
        "id": "O82-eQcwbBB2",
        "outputId": "cdb2af7f-7304-4628-bc8a-b8ad7e5d74ff"
      },
      "outputs": [
        {
          "name": "stdout",
          "output_type": "stream",
          "text": [
            "\n",
            "Accuracy for training set for KNeighborsClassifier = 0.76\n",
            "Accuracy for test set for KNeighborsClassifier = 0.69\n"
          ]
        }
      ],
      "source": [
        "#########################################   KNeighborsClassifier   #############################################################\n",
        "###############################################################################\n",
        "\n",
        "#Bai tap 3\n",
        "X = df.iloc[:, :-1].values\n",
        "y = df.iloc[:, -1].values\n",
        "\n",
        "from sklearn.model_selection import train_test_split\n",
        "from sklearn.neighbors import KNeighborsClassifier\n",
        "from sklearn.metrics import confusion_matrix\n",
        "X_train, X_test, y_train, y_test = train_test_split(X, y, test_size = 0.2, random_state = 42)\n",
        "\n",
        "#.         Your code here ******************\n",
        "KNN = KNeighborsClassifier(n_neighbors=5,weights=\"uniform\",algorithm=\"auto\",leaf_size=30,p=2,metric=\"minkowski\")\n",
        "KNN.fit(X_train,y_train)\n",
        "y_pred = KNN.predict(X_test)\n",
        "y_pred_train = KNN.predict(X_train)\n",
        "cm_train = confusion_matrix(y_train, y_pred_train)\n",
        "cm_test = confusion_matrix(y_test, y_pred)\n",
        "print()\n",
        "accuracy_for_train = np.round((cm_train[0][0] + cm_train[1][1])/len(y_train),2)\n",
        "accuracy_for_test = np.round((cm_test[0][0] + cm_test[1][1])/len(y_test),2)\n",
        "print('Accuracy for training set for KNeighborsClassifier = {}'.format(accuracy_for_train))\n",
        "print('Accuracy for test set for KNeighborsClassifier = {}'.format(accuracy_for_test))"
      ]
    },
    {
      "cell_type": "code",
      "execution_count": 18,
      "metadata": {
        "colab": {
          "base_uri": "https://localhost:8080/"
        },
        "id": "f8eYzfk_Y6em",
        "outputId": "b59ae6ac-02a1-48b3-8af0-8a110313a19c"
      },
      "outputs": [
        {
          "name": "stdout",
          "output_type": "stream",
          "text": [
            "\n",
            "Accuracy for training set for SVC = 0.66\n",
            "Accuracy for test set for SVC = 0.67\n"
          ]
        }
      ],
      "source": [
        "#########################################   SVM   #############################################################\n",
        "\n",
        "#Bai Tap 4\n",
        "\n",
        "#.         Your code here ******************\n",
        "from sklearn.svm import SVC\n",
        "classifier = SVC(kernel = 'rbf', random_state = 42)\n",
        "classifier.fit(X_train, y_train)\n",
        "y_pred = classifier.predict(X_test)\n",
        "y_pred_train = classifier.predict(X_train)\n",
        "cm_train = confusion_matrix(y_train, y_pred_train)\n",
        "cm_test = confusion_matrix(y_test, y_pred)\n",
        "\n",
        "print()\n",
        "accuracy_for_train = np.round((cm_train[0][0] + cm_train[1][1])/len(y_train),2)\n",
        "accuracy_for_test = np.round((cm_test[0][0] + cm_test[1][1])/len(y_test),2)\n",
        "print('Accuracy for training set for SVC = {}'.format(accuracy_for_train))\n",
        "print('Accuracy for test set for SVC = {}'.format(accuracy_for_test))\n"
      ]
    },
    {
      "cell_type": "code",
      "execution_count": 23,
      "metadata": {
        "colab": {
          "base_uri": "https://localhost:8080/"
        },
        "id": "BQL_DgnBZLq_",
        "outputId": "196d5c21-9126-4aa3-d0a7-cf90287421bd"
      },
      "outputs": [
        {
          "name": "stdout",
          "output_type": "stream",
          "text": [
            "\n",
            "Accuracy for training set for GaussianNB = 0.85\n",
            "Accuracy for test set for GaussianNB = 0.84\n"
          ]
        }
      ],
      "source": [
        "#########################################   Naive Bayes  #############################################################\n",
        "# Bai tap 5\n",
        "\n",
        "X = df.iloc[:, :-1].values\n",
        "y = df.iloc[:, -1].values\n",
        "\n",
        "from sklearn.model_selection import train_test_split\n",
        "X_train, X_test, y_train, y_test = train_test_split(X, y, test_size = 0.2, random_state = 42)\n",
        "from sklearn.naive_bayes import GaussianNB\n",
        "classifier = GaussianNB()\n",
        "classifier.fit(X_train, y_train)\n",
        "y_pred = classifier.predict(X_test)\n",
        "y_pred_train = classifier.predict(X_train)\n",
        "#.         Your code here ******************\n",
        "cm_train = confusion_matrix(y_train, y_pred_train)\n",
        "cm_test = confusion_matrix(y_test, y_pred)\n",
        "\n",
        "print()\n",
        "accuracy_for_train = np.round((cm_train[0][0] + cm_train[1][1])/len(y_train),2)\n",
        "accuracy_for_test = np.round((cm_test[0][0] + cm_test[1][1])/len(y_test),2)\n",
        "print('Accuracy for training set for GaussianNB = {}'.format(accuracy_for_train))\n",
        "print('Accuracy for test set for GaussianNB = {}'.format(accuracy_for_test))\n"
      ]
    },
    {
      "cell_type": "code",
      "execution_count": 26,
      "metadata": {
        "colab": {
          "base_uri": "https://localhost:8080/"
        },
        "id": "AmTS5x_SZST1",
        "outputId": "afa0d252-eb8f-4faa-d0db-2a84f1458dc0"
      },
      "outputs": [
        {
          "name": "stdout",
          "output_type": "stream",
          "text": [
            "\n",
            "Accuracy for training set for DecisionTreeClassifier = 1.0\n",
            "Accuracy for test set for DecisionTreeClassifier = 0.72\n"
          ]
        }
      ],
      "source": [
        "#Bai tap 6\n",
        "\n",
        "#########################################   Decision Tree  #############################################################\n",
        "X = df.iloc[:, :-1].values\n",
        "y = df.iloc[:, -1].values\n",
        "\n",
        "from sklearn.model_selection import train_test_split\n",
        "X_train, X_test, y_train, y_test = train_test_split(X, y, test_size = 0.2, random_state = 42)\n",
        "from sklearn.tree import DecisionTreeClassifier\n",
        "classifier = DecisionTreeClassifier(criterion = 'gini',max_depth=10,min_samples_split=2)\n",
        "classifier.fit(X_train, y_train)\n",
        "y_pred = classifier.predict(X_test)\n",
        "y_pred_train = classifier.predict(X_train)\n",
        "\n",
        "cm_train = confusion_matrix(y_train,y_pred_train)\n",
        "cm_test = confusion_matrix(y_test,y_pred)\n",
        "\n",
        "print()\n",
        "accuracy_for_train = np.round((cm_train[0][0] + cm_train[1][1])/len(y_train),2)\n",
        "accuracy_for_test = np.round((cm_test[0][0] + cm_test[1][1])/len(y_test),2)\n",
        "print('Accuracy for training set for DecisionTreeClassifier = {}'.format(accuracy_for_train))\n",
        "print('Accuracy for test set for DecisionTreeClassifier = {}'.format(accuracy_for_test))\n"
      ]
    },
    {
      "cell_type": "code",
      "execution_count": 27,
      "metadata": {
        "colab": {
          "base_uri": "https://localhost:8080/"
        },
        "id": "mU08qXPSZVwn",
        "outputId": "fe04ad86-3cb1-49fb-dd10-6d8d4656cbd1"
      },
      "outputs": [
        {
          "name": "stdout",
          "output_type": "stream",
          "text": [
            "\n",
            "Accuracy for training set for RandomForestClassifier = 0.98\n",
            "Accuracy for test set for RandomForestClassifier = 0.8\n"
          ]
        }
      ],
      "source": [
        "#########################################  Random Forest  #############################################################\n",
        "#bai tap 7\n",
        "X = df.iloc[:, :-1].values\n",
        "y = df.iloc[:, -1].values\n",
        "\n",
        "from sklearn.model_selection import train_test_split\n",
        "X_train, X_test, y_train, y_test = train_test_split(X, y, test_size = 0.2, random_state = 42)\n",
        "from sklearn.ensemble import RandomForestClassifier\n",
        "classifier = RandomForestClassifier(n_estimators = 10, criterion = 'gini', random_state = 42, max_depth=10,min_samples_split=2)\n",
        "classifier.fit(X_train, y_train)\n",
        "y_pred = classifier.predict(X_test)\n",
        "y_pred_train = classifier.predict(X_train)\n",
        "cm_train = confusion_matrix(y_train, y_pred_train)\n",
        "cm_test = confusion_matrix(y_test, y_pred)\n",
        "#.         Your code here ******************\n",
        "\n",
        "\n",
        "\n",
        "print()\n",
        "accuracy_for_train = np.round((cm_train[0][0] + cm_train[1][1])/len(y_train),2)\n",
        "accuracy_for_test = np.round((cm_test[0][0] + cm_test[1][1])/len(y_test),2)\n",
        "print('Accuracy for training set for RandomForestClassifier = {}'.format(accuracy_for_train))\n",
        "print('Accuracy for test set for RandomForestClassifier = {}'.format(accuracy_for_test))"
      ]
    },
    {
      "cell_type": "code",
      "execution_count": null,
      "metadata": {
        "id": "CgGmwwq8aKTT"
      },
      "outputs": [],
      "source": []
    },
    {
      "cell_type": "code",
      "execution_count": 28,
      "metadata": {
        "colab": {
          "base_uri": "https://localhost:8080/"
        },
        "id": "vLMPSNudZg7D",
        "outputId": "202b2e55-5594-4360-8ff9-a8f2a993304b"
      },
      "outputs": [
        {
          "name": "stdout",
          "output_type": "stream",
          "text": [
            "\n",
            "Accuracy for training set for AdaBoostClassifier = 0.91\n",
            "Accuracy for test set for AdaBoostClassifier = 0.84\n"
          ]
        },
        {
          "name": "stderr",
          "output_type": "stream",
          "text": [
            "/usr/local/lib/python3.10/dist-packages/sklearn/ensemble/_weight_boosting.py:527: FutureWarning: The SAMME.R algorithm (the default) is deprecated and will be removed in 1.6. Use the SAMME algorithm to circumvent this warning.\n",
            "  warnings.warn(\n"
          ]
        }
      ],
      "source": [
        "# bap tap 8\n",
        "###############################################################################\n",
        "# applying Adaboost\n",
        "\n",
        "\n",
        "X = df.iloc[:, :-1].values\n",
        "y = df.iloc[:, -1].values\n",
        "\n",
        "from sklearn.model_selection import train_test_split\n",
        "X_train, X_test, y_train, y_test = train_test_split(X, y, test_size = 0.2, random_state = 42)\n",
        "from sklearn.ensemble import AdaBoostClassifier\n",
        "classifier = AdaBoostClassifier(n_estimators=50,learning_rate=1.0)\n",
        "classifier.fit(X_train,y_train)\n",
        "y_pred=classifier.predict(X_test)\n",
        "y_pred_train = classifier.predict(X_train)\n",
        "cm_train = confusion_matrix(y_train, y_pred_train)\n",
        "cm_test = confusion_matrix(y_test, y_pred)\n",
        "#.         Your code here ******************\n",
        "\n",
        "\n",
        "print()\n",
        "accuracy_for_train = np.round((cm_train[0][0] + cm_train[1][1])/len(y_train),2)\n",
        "accuracy_for_test = np.round((cm_test[0][0] + cm_test[1][1])/len(y_test),2)\n",
        "print('Accuracy for training set for AdaBoostClassifier = {}'.format(accuracy_for_train))\n",
        "print('Accuracy for test set for AdaBoostClassifier = {}'.format(accuracy_for_test))"
      ]
    },
    {
      "cell_type": "code",
      "execution_count": 29,
      "metadata": {
        "colab": {
          "base_uri": "https://localhost:8080/"
        },
        "id": "-vHkdkIzaMMp",
        "outputId": "6fdaab9d-3d1e-46d5-91f1-a38966881f56"
      },
      "outputs": [
        {
          "name": "stdout",
          "output_type": "stream",
          "text": [
            "\n",
            "Accuracy for training set for GradientBoostingClassifier = 1.0\n",
            "Accuracy for test set for GradientBoostingClassifier = 0.84\n"
          ]
        }
      ],
      "source": [
        "# Bai tap 9\n",
        "###############################################################################\n",
        "# Gradient Adaboost\n",
        "\n",
        "\n",
        "\n",
        "X = df.iloc[:, :-1].values\n",
        "y = df.iloc[:, -1].values\n",
        "\n",
        "from sklearn.model_selection import train_test_split\n",
        "X_train, X_test, y_train, y_test = train_test_split(X, y, test_size = 0.2, random_state = 42)\n",
        "from sklearn.ensemble import GradientBoostingClassifier\n",
        "classifier = GradientBoostingClassifier(n_estimators=100, learning_rate=1.0,max_depth=3,min_samples_split=2, random_state=0)\n",
        "classifier.fit(X_train, y_train)\n",
        "y_pred = classifier.predict(X_test)\n",
        "y_pred_train = classifier.predict(X_train)\n",
        "cm_train = confusion_matrix(y_train, y_pred_train)\n",
        "cm_test = confusion_matrix(y_test, y_pred)\n",
        "#.         Your code here ******************\n",
        "\n",
        "print()\n",
        "accuracy_for_train = np.round((cm_train[0][0] + cm_train[1][1])/len(y_train),2)\n",
        "accuracy_for_test = np.round((cm_test[0][0] + cm_test[1][1])/len(y_test),2)\n",
        "print('Accuracy for training set for GradientBoostingClassifier = {}'.format(accuracy_for_train))\n",
        "print('Accuracy for test set for GradientBoostingClassifier = {}'.format(accuracy_for_test))\n"
      ]
    },
    {
      "cell_type": "code",
      "execution_count": 31,
      "metadata": {
        "colab": {
          "base_uri": "https://localhost:8080/"
        },
        "id": "jktfJ9cmZa6t",
        "outputId": "212263eb-8169-471f-c9b1-83bcd2fd6805"
      },
      "outputs": [
        {
          "name": "stdout",
          "output_type": "stream",
          "text": [
            "\n",
            "Accuracy for training set for XGBClassifier = 1.0\n",
            "Accuracy for test set for XGBClassifier = 0.87\n"
          ]
        }
      ],
      "source": [
        "#bai tap 10\n",
        "###############################################################################\n",
        "# applying XGBoost\n",
        "from xgboost import XGBClassifier\n",
        "\n",
        "classifier = XGBClassifier(objective='binary:logistic',random_state=42,n_estimators=100)\n",
        "classifier.fit(X_train, y_train)\n",
        "y_pred = classifier.predict(X_test)\n",
        "y_pred_train = classifier.predict(X_train)\n",
        "cm_train = confusion_matrix(y_train, y_pred_train)\n",
        "cm_test = confusion_matrix(y_test, y_pred)\n",
        "#.         Your code here ******************\n",
        "\n",
        "\n",
        "print()\n",
        "accuracy_for_train = np.round((cm_train[0][0] + cm_train[1][1])/len(y_train),2)\n",
        "accuracy_for_test = np.round((cm_test[0][0] + cm_test[1][1])/len(y_test),2)\n",
        "print('Accuracy for training set for XGBClassifier = {}'.format(accuracy_for_train))\n",
        "print('Accuracy for test set for XGBClassifier = {}'.format(accuracy_for_test))"
      ]
    },
    {
      "cell_type": "code",
      "execution_count": 35,
      "metadata": {
        "colab": {
          "base_uri": "https://localhost:8080/"
        },
        "id": "kTPu9HREcY0F",
        "outputId": "30f4c341-c861-42d4-c471-8627111aec19"
      },
      "outputs": [
        {
          "name": "stderr",
          "output_type": "stream",
          "text": [
            "/usr/local/lib/python3.10/dist-packages/sklearn/ensemble/_weight_boosting.py:527: FutureWarning: The SAMME.R algorithm (the default) is deprecated and will be removed in 1.6. Use the SAMME algorithm to circumvent this warning.\n",
            "  warnings.warn(\n",
            "/usr/local/lib/python3.10/dist-packages/sklearn/ensemble/_weight_boosting.py:527: FutureWarning: The SAMME.R algorithm (the default) is deprecated and will be removed in 1.6. Use the SAMME algorithm to circumvent this warning.\n",
            "  warnings.warn(\n",
            "/usr/local/lib/python3.10/dist-packages/sklearn/ensemble/_weight_boosting.py:527: FutureWarning: The SAMME.R algorithm (the default) is deprecated and will be removed in 1.6. Use the SAMME algorithm to circumvent this warning.\n",
            "  warnings.warn(\n",
            "/usr/local/lib/python3.10/dist-packages/sklearn/ensemble/_weight_boosting.py:527: FutureWarning: The SAMME.R algorithm (the default) is deprecated and will be removed in 1.6. Use the SAMME algorithm to circumvent this warning.\n",
            "  warnings.warn(\n",
            "/usr/local/lib/python3.10/dist-packages/sklearn/ensemble/_weight_boosting.py:527: FutureWarning: The SAMME.R algorithm (the default) is deprecated and will be removed in 1.6. Use the SAMME algorithm to circumvent this warning.\n",
            "  warnings.warn(\n"
          ]
        },
        {
          "name": "stdout",
          "output_type": "stream",
          "text": [
            "\n",
            "Accuracy for training set for StackingClassifier = 0.92\n",
            "Accuracy for test set for StackingClassifier = 0.9\n"
          ]
        },
        {
          "name": "stderr",
          "output_type": "stream",
          "text": [
            "/usr/local/lib/python3.10/dist-packages/sklearn/ensemble/_weight_boosting.py:527: FutureWarning: The SAMME.R algorithm (the default) is deprecated and will be removed in 1.6. Use the SAMME algorithm to circumvent this warning.\n",
            "  warnings.warn(\n"
          ]
        }
      ],
      "source": [
        "X = df.iloc[:, :-1].values\n",
        "y = df.iloc[:, -1].values\n",
        "\n",
        "from sklearn.model_selection import train_test_split\n",
        "X_train, X_test, y_train, y_test = train_test_split(X, y, test_size = 0.2, random_state = 42)\n",
        "from sklearn.ensemble import StackingClassifier\n",
        "dtc =  DecisionTreeClassifier(random_state=42)\n",
        "rfc = RandomForestClassifier(random_state=42)\n",
        "knn =  KNeighborsClassifier()\n",
        "xgb = XGBClassifier()\n",
        "gc = GradientBoostingClassifier(random_state=42)\n",
        "svc = SVC(kernel = 'rbf', random_state=42)\n",
        "ad = AdaBoostClassifier(random_state=42)\n",
        "clf = [(\"dtc\",dtc),(\"rfc\",rfc),(\"knn\",knn),(\"gc\",gc),(\"svc\",svc),(\"ad\",ad)]\n",
        "#.         Your code here ******************\n",
        "classifier = StackingClassifier(estimators=clf,final_estimator=xgb)\n",
        "classifier.fit(X_train,y_train)\n",
        "y_pred = classifier.predict(X_test)\n",
        "y_pred_train = classifier.predict(X_train)\n",
        "cm_train = confusion_matrix(y_train, y_pred_train)\n",
        "cm_test = confusion_matrix(y_test, y_pred)\n",
        "\n",
        "print()\n",
        "accuracy_for_train = np.round((cm_train[0][0] + cm_train[1][1])/len(y_train),2)\n",
        "accuracy_for_test = np.round((cm_test[0][0] + cm_test[1][1])/len(y_test),2)\n",
        "print('Accuracy for training set for StackingClassifier = {}'.format(accuracy_for_train))\n",
        "print('Accuracy for test set for StackingClassifier = {}'.format(accuracy_for_test))"
      ]
    }
  ],
  "metadata": {
    "colab": {
      "provenance": []
    },
    "kernelspec": {
      "display_name": "Python 3",
      "name": "python3"
    },
    "language_info": {
      "name": "python"
    }
  },
  "nbformat": 4,
  "nbformat_minor": 0
}
